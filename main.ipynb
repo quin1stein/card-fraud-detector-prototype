{
 "cells": [
  {
   "cell_type": "markdown",
   "id": "6bff59c6",
   "metadata": {},
   "source": [
    "## Introduction to Pandas, Numpy, and Matplotlib + Seaborn"
   ]
  },
  {
   "cell_type": "code",
   "execution_count": 3,
   "id": "df15fcd2",
   "metadata": {},
   "outputs": [
    {
     "name": "stdout",
     "output_type": "stream",
     "text": [
      "   TransactionID Customer   Amount     Category  IsFraud  DiscountedAmount\n",
      "0              1    Alice    75.95    Groceries        0             46.15\n",
      "1              2      Bob  1333.98  Electronics        1            963.56\n",
      "2              3  Charlie    93.37    Groceries        0             73.43\n",
      "3              4    David   514.97      Jewelry        1           1265.56\n",
      "4              5      Eve   109.01     Clothing        0             83.55\n",
      "==================================================\n",
      "       TransactionID       Amount    IsFraud  DiscountedAmount\n",
      "count       10.00000    10.000000  10.000000         10.000000\n",
      "mean         5.50000   416.764000   0.400000        428.023000\n",
      "std          3.02765   478.391465   0.516398        491.789563\n",
      "min          1.00000    75.950000   0.000000         30.550000\n",
      "25%          3.25000    85.595000   0.000000         68.817500\n",
      "50%          5.50000   101.190000   0.000000         83.145000\n",
      "75%          7.75000   633.155000   1.000000        887.177500\n",
      "max         10.00000  1333.980000   1.000000       1265.560000\n"
     ]
    }
   ],
   "source": [
    "import pandas as pd\n",
    "import numpy as np\n",
    "import matplotlib.pyplot as plt\n",
    "import seaborn as sns\n",
    "\n",
    "df = pd.read_csv('transactions.csv')\n",
    "print(df.head())\n",
    "print(\"=\" * 50)\n",
    "print(df.describe())\n"
   ]
  },
  {
   "cell_type": "markdown",
   "id": "86ed837b",
   "metadata": {},
   "source": [
    "## Loading and Exploring Data"
   ]
  },
  {
   "cell_type": "code",
   "execution_count": 4,
   "id": "ebb325cd",
   "metadata": {},
   "outputs": [
    {
     "name": "stdout",
     "output_type": "stream",
     "text": [
      "   TransactionID Customer   Amount     Category  IsFraud  DiscountedAmount\n",
      "0              1    Alice    75.95    Groceries        0             46.15\n",
      "1              2      Bob  1333.98  Electronics        1            963.56\n",
      "2              3  Charlie    93.37    Groceries        0             73.43\n",
      "3              4    David   514.97      Jewelry        1           1265.56\n",
      "4              5      Eve   109.01     Clothing        0             83.55\n",
      "\n",
      "Shape of the dataset:\n",
      "(10, 6)\n",
      "\n",
      "Columns in the dataset:\n",
      "Index(['TransactionID', 'Customer', 'Amount', 'Category', 'IsFraud',\n",
      "       'DiscountedAmount'],\n",
      "      dtype='object')\n",
      "\n",
      "Dataset Info:\n",
      "<class 'pandas.core.frame.DataFrame'>\n",
      "RangeIndex: 10 entries, 0 to 9\n",
      "Data columns (total 6 columns):\n",
      " #   Column            Non-Null Count  Dtype  \n",
      "---  ------            --------------  -----  \n",
      " 0   TransactionID     10 non-null     int64  \n",
      " 1   Customer          10 non-null     object \n",
      " 2   Amount            10 non-null     float64\n",
      " 3   Category          10 non-null     object \n",
      " 4   IsFraud           10 non-null     int64  \n",
      " 5   DiscountedAmount  10 non-null     float64\n",
      "dtypes: float64(2), int64(2), object(2)\n",
      "memory usage: 612.0+ bytes\n",
      "None\n",
      "\n",
      "Summary statistics:\n",
      "       TransactionID       Amount    IsFraud  DiscountedAmount\n",
      "count       10.00000    10.000000  10.000000         10.000000\n",
      "mean         5.50000   416.764000   0.400000        428.023000\n",
      "std          3.02765   478.391465   0.516398        491.789563\n",
      "min          1.00000    75.950000   0.000000         30.550000\n",
      "25%          3.25000    85.595000   0.000000         68.817500\n",
      "50%          5.50000   101.190000   0.000000         83.145000\n",
      "75%          7.75000   633.155000   1.000000        887.177500\n",
      "max         10.00000  1333.980000   1.000000       1265.560000\n",
      "   TransactionID Customer   Amount     Category  IsFraud  DiscountedAmount\n",
      "0              1    Alice    75.95    Groceries        0             46.15\n",
      "1              2      Bob  1333.98  Electronics        1            963.56\n",
      "2              3  Charlie    93.37    Groceries        0             73.43\n"
     ]
    }
   ],
   "source": [
    "# Preview the first few rows\n",
    "print(df.head())\n",
    "\n",
    "# View shape of the dataset (rows, columns)\n",
    "print(\"\\nShape of the dataset:\")\n",
    "print(df.shape)\n",
    "\n",
    "# See column names\n",
    "print(\"\\nColumns in the dataset:\")\n",
    "print(df.columns)\n",
    "\n",
    "# General information about the dataset (data types, non-null values)\n",
    "print(\"\\nDataset Info:\")\n",
    "print(df.info())\n",
    "\n",
    "# Summary statistics for numerical columns\n",
    "print(\"\\nSummary statistics:\")\n",
    "print(df.describe())\n",
    "\n",
    "## print the first three elements\n",
    "print(df.head(3))"
   ]
  },
  {
   "cell_type": "markdown",
   "id": "208b97c4",
   "metadata": {},
   "source": [
    "## Filtering"
   ]
  },
  {
   "cell_type": "code",
   "execution_count": 7,
   "id": "ef777a4c",
   "metadata": {},
   "outputs": [
    {
     "name": "stdout",
     "output_type": "stream",
     "text": [
      "   TransactionID Customer   Amount     Category  IsFraud  DiscountedAmount\n",
      "1              2      Bob  1333.98  Electronics        1            963.56\n",
      "3              4    David   514.97      Jewelry        1           1265.56\n",
      "4              5      Eve   109.01     Clothing        0             83.55\n",
      "7              8    Heidi  1119.19  Electronics        1            658.03\n",
      "9             10     Judy   672.55  Electronics        1           1009.38\n",
      "\n",
      " Fraud:     TransactionID Customer   Amount     Category  IsFraud  DiscountedAmount\n",
      "1              2      Bob  1333.98  Electronics        1            963.56\n",
      "3              4    David   514.97      Jewelry        1           1265.56\n",
      "7              8    Heidi  1119.19  Electronics        1            658.03\n",
      "9             10     Judy   672.55  Electronics        1           1009.38\n",
      "\n",
      " Not Fraud:     TransactionID Customer  Amount   Category  IsFraud  DiscountedAmount\n",
      "0              1    Alice   75.95  Groceries        0             46.15\n",
      "2              3  Charlie   93.37  Groceries        0             73.43\n",
      "4              5      Eve  109.01   Clothing        0             83.55\n",
      "5              6    Frank   76.28  Groceries        0             67.28\n",
      "6              7    Grace   87.32   Clothing        0             82.74\n",
      "8              9     Ivan   85.02  Groceries        0             30.55\n"
     ]
    }
   ],
   "source": [
    "high_value_transactions = df[df['Amount'] > 100]\n",
    "print(high_value_transactions)\n",
    "\n",
    "fraudulent_transactions = df[df['IsFraud'] == 1]\n",
    "print(\"\\n Fraud: \", fraudulent_transactions)\n",
    "\n",
    "non_fraudulent_transactions = df[df['IsFraud'] == 0]\n",
    "print(\"\\n Not Fraud: \", non_fraudulent_transactions)"
   ]
  },
  {
   "cell_type": "markdown",
   "id": "8330e638",
   "metadata": {},
   "source": [
    "## Sorting Data"
   ]
  },
  {
   "cell_type": "code",
   "execution_count": 8,
   "id": "fb00e659",
   "metadata": {},
   "outputs": [
    {
     "name": "stdout",
     "output_type": "stream",
     "text": [
      "   TransactionID Customer   Amount     Category  IsFraud  DiscountedAmount\n",
      "1              2      Bob  1333.98  Electronics        1            963.56\n",
      "7              8    Heidi  1119.19  Electronics        1            658.03\n",
      "9             10     Judy   672.55  Electronics        1           1009.38\n",
      "3              4    David   514.97      Jewelry        1           1265.56\n",
      "4              5      Eve   109.01     Clothing        0             83.55\n",
      "2              3  Charlie    93.37    Groceries        0             73.43\n",
      "6              7    Grace    87.32     Clothing        0             82.74\n",
      "8              9     Ivan    85.02    Groceries        0             30.55\n",
      "5              6    Frank    76.28    Groceries        0             67.28\n",
      "0              1    Alice    75.95    Groceries        0             46.15\n"
     ]
    }
   ],
   "source": [
    "sorted_by_amount = df.sort_values('Amount', ascending=False) # default at True\n",
    "print(sorted_by_amount)"
   ]
  },
  {
   "cell_type": "markdown",
   "id": "f2a6f7a8",
   "metadata": {},
   "source": [
    "## Modifying Data\n",
    "Modifying data "
   ]
  },
  {
   "cell_type": "code",
   "execution_count": 10,
   "id": "4aa7408e",
   "metadata": {},
   "outputs": [
    {
     "name": "stdout",
     "output_type": "stream",
     "text": [
      "   TransactionID Customer   Amount     Category  IsFraud  DiscountedAmount\n",
      "0              1    Alice    46.15    Groceries        0             46.15\n",
      "1              2      Bob  1070.62  Electronics        1            963.56\n",
      "2              3  Charlie    73.43    Groceries        0             73.43\n",
      "3              4    David  1406.18      Jewelry        1           1265.56\n",
      "4              5      Eve    83.55     Clothing        0             83.55\n"
     ]
    }
   ],
   "source": [
    "# Creating a new column:\n",
    "df['DiscountedAmount'] = df['Amount'].apply(lambda x: round(x * 0.9, 2) if x > 100 else round(x, 2))\n",
    "df.to_csv('transactions.csv', index=False)\n",
    "print(df.head())"
   ]
  },
  {
   "cell_type": "markdown",
   "id": "e5fa67d6",
   "metadata": {},
   "source": [
    "## Grouping and Aggregating Data"
   ]
  },
  {
   "cell_type": "code",
   "execution_count": null,
   "id": "34703d8e",
   "metadata": {},
   "outputs": [],
   "source": [
    "# Group by Customer and Find Total Spent\n",
    "total_spent = df.groupby('Customer')['Amount'].sum()\n",
    "print(total_spent)\n",
    "\n",
    "# Group by Fraud Status and Get the Count of Transactions\n",
    "fraud_count = df.groupby('IsFraud')['TransactionID'].count()\n",
    "print(fraud_count)"
   ]
  },
  {
   "cell_type": "markdown",
   "id": "599d1cf8",
   "metadata": {},
   "source": [
    "## Checking for Missing Values"
   ]
  },
  {
   "cell_type": "code",
   "execution_count": 9,
   "id": "a3d789a9",
   "metadata": {},
   "outputs": [
    {
     "name": "stdout",
     "output_type": "stream",
     "text": [
      "TransactionID    0\n",
      "Customer         0\n",
      "Amount           0\n",
      "Category         0\n",
      "IsFraud          0\n",
      "dtype: int64\n"
     ]
    }
   ],
   "source": [
    "missing_values = df.isnull().sum()\n",
    "print(missing_values)"
   ]
  },
  {
   "cell_type": "markdown",
   "id": "ff6f6227",
   "metadata": {},
   "source": [
    "## Fill Missing Values & Saving the Modified Data in the CSV File\n",
    "`.apply()`\n",
    "\n",
    "axis=0: Applies the function to each column. \n",
    "\n",
    "axis=1: Applies the function to each row."
   ]
  },
  {
   "cell_type": "code",
   "execution_count": null,
   "id": "6ce30915",
   "metadata": {},
   "outputs": [],
   "source": [
    "# Re-generate the values of category\n",
    "category_ranges = {\n",
    "    \"Groceries\": (10, 100),\n",
    "    \"Clothing\": (20, 150),\n",
    "    \"Electronics\": (100, 1500),\n",
    "    \"Jewelry\": (500, 3000)\n",
    "}\n",
    "\n",
    "def generate_amount(row_name):\n",
    "    low, high = category_ranges[row_name[\"Category\"]]\n",
    "    return round(np.random.uniform(low, high), 2)\n",
    "\n",
    "df[\"Amount\"] = df.apply(generate_amount, axis=1)\n",
    "\n",
    "# Filling missing values of column amount with its mean.\n",
    "df[\"Amount\"] = df[\"Amount\"].fillna(df[\"Amount\"].mean())\n",
    "\n",
    "# Saving the modified data in the CSV File\n",
    "df.to_csv('transactions.csv', index=False)\n",
    "print(df.describe())\n",
    "print(df.head(10))"
   ]
  },
  {
   "cell_type": "markdown",
   "id": "dde98c23",
   "metadata": {},
   "source": [
    "## Grouping, Aggregating, and Filtering Data"
   ]
  },
  {
   "cell_type": "code",
   "execution_count": 9,
   "id": "c8c3cb8d",
   "metadata": {},
   "outputs": [
    {
     "name": "stdout",
     "output_type": "stream",
     "text": [
      "      Category  TotalSpent  AverageSpent  TransactionCount  FraudCount\n",
      "1  Electronics     3125.72   1041.906667                 3           3\n",
      "3      Jewelry      514.97    514.970000                 1           1\n",
      "2    Groceries      330.62     82.655000                 4           0\n",
      "0     Clothing      196.33     98.165000                 2           0\n"
     ]
    }
   ],
   "source": [
    "# Group by the 'Category' column\n",
    "category_summary = df.groupby(\"Category\").agg({\n",
    "    \"Amount\": [\"sum\", \"mean\", \"count\"],\n",
    "    \"IsFraud\": \"sum\"\n",
    "}).reset_index()\n",
    "\n",
    "# Rename columns for clarity\n",
    "category_summary.columns = [\"Category\", \"TotalSpent\", \"AverageSpent\", \"TransactionCount\", \"FraudCount\"]\n",
    "\n",
    "# Sort by total spending (optional)\n",
    "category_summary = category_summary.sort_values(by=\"TotalSpent\", ascending=False)\n",
    "\n",
    "# Show the summary\n",
    "print(category_summary)"
   ]
  },
  {
   "cell_type": "markdown",
   "id": "3c31dbba",
   "metadata": {},
   "source": [
    "## Plotting using Matplotlib"
   ]
  },
  {
   "cell_type": "code",
   "execution_count": 21,
   "id": "cdb9666f",
   "metadata": {},
   "outputs": [
    {
     "data": {
      "image/png": "[encoded data removed]",
      "text/plain": [
       "<Figure size 800x500 with 1 Axes>"
      ]
     },
     "metadata": {},
     "output_type": "display_data"
    }
   ],
   "source": [
    "grouped = df.groupby(\"Category\")[\"Amount\"].sum().reset_index()\n",
    "\n",
    "# Plotting\n",
    "plt.figure(figsize=(8, 5))\n",
    "plt.bar(grouped[\"Category\"], grouped[\"Amount\"], color=\"skyblue\", edgecolor=\"black\")\n",
    "plt.title(\"Total Transaction Amount per Category\")\n",
    "plt.xlabel(\"Category\")\n",
    "plt.ylabel(\"Total Amount\")\n",
    "plt.grid(axis=\"y\", alpha=0.6)\n",
    "plt.tight_layout()\n",
    "plt.show()"
   ]
  }
 ],
 "metadata": {
  "kernelspec": {
   "display_name": "Python 3",
   "language": "python",
   "name": "python3"
  },
  "language_info": {
   "codemirror_mode": {
    "name": "ipython",
    "version": 3
   },
   "file_extension": ".py",
   "mimetype": "text/x-python",
   "name": "python",
   "nbconvert_exporter": "python",
   "pygments_lexer": "ipython3",
   "version": "3.13.3"
  }
 },
 "nbformat": 4,
 "nbformat_minor": 5
}
